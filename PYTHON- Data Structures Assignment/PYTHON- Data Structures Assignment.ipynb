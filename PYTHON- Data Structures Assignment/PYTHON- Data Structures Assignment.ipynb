{
 "cells": [
  {
   "cell_type": "markdown",
   "id": "68d13642-753a-46f4-80bb-3d43c3ad2d3b",
   "metadata": {},
   "source": [
    "# Q1. How do you comment code in Python? What are the different types of comments?"
   ]
  },
  {
   "cell_type": "markdown",
   "id": "903f0181-84ae-4280-8b84-bec77e793306",
   "metadata": {},
   "source": [
    "Answer:\n",
    "In Python, we can use the hash (#) symbol to create comments. \n",
    "There are two main types of comments in Python:\n",
    "Single-line comments: Single-line comments are created using the hash (#) symbol\n",
    "# This is a single-line comment\n",
    "print(\"Hello, World!\")  # This is also a comment at the end of a line\n",
    "\n",
    "Multi-line comments (docstrings): While Python doesn't have a specific syntax for multi-line comments like some other programming languages, you can use triple-quoted strings (single or double) to create multi-line comments,\n",
    "\"\"\"\n",
    "This is a multi-line comment or docstring.\n",
    "It can span multiple lines and is often used\n",
    "to provide documentation for functions or classes.\n",
    "\"\"\" "
   ]
  },
  {
   "cell_type": "markdown",
   "id": "984f713c-e60c-4234-a2cc-e59416be1afe",
   "metadata": {},
   "source": [
    "Q2. What are variables in Python? How do you declare and assign values to variables?"
   ]
  },
  {
   "cell_type": "markdown",
   "id": "0055fe21-b911-43cd-8276-386cfa07d3fc",
   "metadata": {},
   "source": [
    "In Python, a variable is a name given to a memory location to store data. Variables are used to represent and manipulate data in a program. Unlike some other programming languages, you don't need to explicitly declare the data type of a variable in Python.\n",
    "\n",
    "To declare and assign values to variables in Python, we simply use the assignment operator (=).\n",
    "\n",
    "# Variable declaration and assignment\n",
    "my_variable = 10"
   ]
  },
  {
   "cell_type": "markdown",
   "id": "2ea508c1-c8d8-4bec-a36c-e68e9026cd17",
   "metadata": {},
   "source": [
    "Q3. How do you convert one data type to another in Python?"
   ]
  },
  {
   "cell_type": "markdown",
   "id": "816d7bfa-cede-44bb-9116-7e62db51c3df",
   "metadata": {},
   "source": [
    "We can explicitly convert one data type to another using built-in functions. The common functions for type conversion are int(), float(), str(), and bool().\n",
    "# Convert to integer\n",
    "x = int(3.5)  # x is now 3\n",
    "\n",
    "# Convert to float\n",
    "y = float(\"5.2\")  # y is now 5.2\n",
    "\n",
    "# Convert to string\n",
    "z = str(10)  # z is now \"10\"\n"
   ]
  },
  {
   "cell_type": "markdown",
   "id": "8801f425-9301-41e5-ab11-848faeb41d89",
   "metadata": {},
   "source": [
    "Q4. How do you write and execute a Python script from the command line?"
   ]
  },
  {
   "cell_type": "markdown",
   "id": "dff760d3-f066-4581-956b-0dc5c2437114",
   "metadata": {},
   "source": [
    "Use the cd command to navigate to the directory where your Python script is located.\n",
    "cd path/to/script/directory\n",
    "To execute the script, use the python command followed by the script's filename. For example:\n",
    "python myscript.py"
   ]
  },
  {
   "cell_type": "markdown",
   "id": "7769f67f-69b4-4826-b904-5051526bf77c",
   "metadata": {},
   "source": [
    "Q5. Given a list my_list = [1, 2, 3, 4, 5], write the code to slice the list and obtain the sub-list [2, 3]."
   ]
  },
  {
   "cell_type": "code",
   "execution_count": 1,
   "id": "3b26b4ba-8516-4820-ad98-f1490092cd7e",
   "metadata": {},
   "outputs": [
    {
     "name": "stdout",
     "output_type": "stream",
     "text": [
      "[2, 3]\n"
     ]
    }
   ],
   "source": [
    "my_list = [1, 2, 3, 4, 5]\n",
    "sub_list = my_list[1:3]\n",
    "print(sub_list)"
   ]
  },
  {
   "cell_type": "markdown",
   "id": "69dc0521-ac86-4016-8da1-3da3b0cd31a3",
   "metadata": {},
   "source": [
    "Q6. What is a complex number in mathematics, and how is it represented in Python?"
   ]
  },
  {
   "cell_type": "markdown",
   "id": "a4297bb9-272b-4343-9657-5522e9a0c8dc",
   "metadata": {},
   "source": [
    "In mathematics, a complex number is a number that comprises both a real part and an imaginary part. It is expressed in the form a + bi, where a is the real part, b is the imaginary part, and i is the imaginary unit, which is defined as the square root of -1."
   ]
  },
  {
   "cell_type": "code",
   "execution_count": 2,
   "id": "bce879fd-581d-4898-8ae0-390e1202722d",
   "metadata": {},
   "outputs": [
    {
     "name": "stdout",
     "output_type": "stream",
     "text": [
      "(3+2j)\n"
     ]
    }
   ],
   "source": [
    "# Creating a complex number\n",
    "z = 3 + 2j\n",
    "\n",
    "# Printing the complex number\n",
    "print(z)"
   ]
  },
  {
   "cell_type": "markdown",
   "id": "b0369507-23b3-412e-ac8e-f6ba21aaef12",
   "metadata": {},
   "source": [
    "Q7. What is the correct way to declare a variable named age and assign the value 25 to it?"
   ]
  },
  {
   "cell_type": "code",
   "execution_count": 3,
   "id": "396ba529-32b0-4140-b1ab-26d3802c7d39",
   "metadata": {},
   "outputs": [],
   "source": [
    "# Declare a variable named age and assign the value 25\n",
    "age = 25"
   ]
  },
  {
   "cell_type": "markdown",
   "id": "88daa2ed-7e3d-4765-a399-009d14e9657c",
   "metadata": {},
   "source": [
    "Q8. Declare a variable named price and assign the value 9.99 to it. What data type does this variable\n",
    "belong to?"
   ]
  },
  {
   "cell_type": "code",
   "execution_count": 4,
   "id": "ff22d5d0-cfb2-4dc5-9652-7373f4d66b14",
   "metadata": {},
   "outputs": [
    {
     "name": "stdout",
     "output_type": "stream",
     "text": [
      "<class 'float'>\n"
     ]
    }
   ],
   "source": [
    "price = 9.99\n",
    "print(type(price))\n",
    "# this variable is of float type"
   ]
  },
  {
   "cell_type": "markdown",
   "id": "f54069e0-a528-4201-b2ad-1c4294848ae9",
   "metadata": {},
   "source": [
    "Q9. Create a variable named name and assign your full name to it as a string. How would you print the\n",
    "value of this variable?"
   ]
  },
  {
   "cell_type": "code",
   "execution_count": 5,
   "id": "5d79cbca-01a5-4df7-bfe9-a0d1ed8440c5",
   "metadata": {},
   "outputs": [
    {
     "name": "stdout",
     "output_type": "stream",
     "text": [
      "Arunima Baghel\n"
     ]
    }
   ],
   "source": [
    "# full name\n",
    "name = \"Arunima Baghel\"\n",
    "print(name)"
   ]
  },
  {
   "cell_type": "markdown",
   "id": "89803729-71d6-497e-97a5-bfe228e61bf1",
   "metadata": {},
   "source": [
    "Q10. Given the string \"Hello, World!\", extract the substring \"World\"."
   ]
  },
  {
   "cell_type": "code",
   "execution_count": 7,
   "id": "2d508132-1a21-4c21-9a94-0c54a2ce2fe2",
   "metadata": {},
   "outputs": [
    {
     "name": "stdout",
     "output_type": "stream",
     "text": [
      " World\n"
     ]
    }
   ],
   "source": [
    "mystring= \"Hello, World!\"\n",
    "sub_str= mystring[6:12]\n",
    "print(sub_str)"
   ]
  },
  {
   "cell_type": "markdown",
   "id": "5d4210ad-88ec-40b4-99b5-01ce3847681b",
   "metadata": {},
   "source": [
    "Q11. Create a variable named \"is_student\" and assign it a boolean value indicating whether you are\n",
    "currently a student or not."
   ]
  },
  {
   "cell_type": "code",
   "execution_count": 8,
   "id": "943ccd67-8c10-4486-a986-2680aa558fff",
   "metadata": {},
   "outputs": [
    {
     "name": "stdout",
     "output_type": "stream",
     "text": [
      "True\n"
     ]
    }
   ],
   "source": [
    "# Create a variable named is_student and assign a boolean value\n",
    "is_student = True\n",
    "\n",
    "# Print the value of the is_student variable\n",
    "print(is_student)\n"
   ]
  }
 ],
 "metadata": {
  "kernelspec": {
   "display_name": "Python 3 (ipykernel)",
   "language": "python",
   "name": "python3"
  },
  "language_info": {
   "codemirror_mode": {
    "name": "ipython",
    "version": 3
   },
   "file_extension": ".py",
   "mimetype": "text/x-python",
   "name": "python",
   "nbconvert_exporter": "python",
   "pygments_lexer": "ipython3",
   "version": "3.10.8"
  }
 },
 "nbformat": 4,
 "nbformat_minor": 5
}

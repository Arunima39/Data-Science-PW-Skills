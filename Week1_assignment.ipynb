{
 "cells": [
  {
   "cell_type": "code",
   "execution_count": 1,
   "id": "021d3159-0402-44bd-bf50-83840958d7e9",
   "metadata": {},
   "outputs": [],
   "source": [
    "# Q1. Create one variable containing following type of data:\n",
    "# (i) string\n",
    "# (ii) list\n",
    "# (iii) float\n",
    "# (iv) tuple"
   ]
  },
  {
   "cell_type": "code",
   "execution_count": 2,
   "id": "2b98d5f1-1fa2-4f8d-a189-3ad0ce8e1669",
   "metadata": {},
   "outputs": [],
   "source": [
    "str_variable = \"Hello\""
   ]
  },
  {
   "cell_type": "code",
   "execution_count": 5,
   "id": "56bd0e61-e438-4f05-907b-3c62faf7be25",
   "metadata": {},
   "outputs": [],
   "source": [
    "list_variable = [1,2,3,\"abc\",1.2]"
   ]
  },
  {
   "cell_type": "code",
   "execution_count": 6,
   "id": "3ff4067b-705f-4ff0-8ead-b70b88a2a5b7",
   "metadata": {},
   "outputs": [],
   "source": [
    "float_variable = 2.4"
   ]
  },
  {
   "cell_type": "code",
   "execution_count": 7,
   "id": "adc3d881-875a-40b2-ae99-fa4e04431b9a",
   "metadata": {},
   "outputs": [],
   "source": [
    "tuple_variable = (2,4,5,6)"
   ]
  },
  {
   "cell_type": "code",
   "execution_count": 8,
   "id": "f2650577-ce5f-4218-8db3-377990ed6d50",
   "metadata": {},
   "outputs": [],
   "source": [
    "# Q2. Given are some following variables containing data:\n",
    "# (i) var1 = ‘ ‘\n",
    "# (ii) var2 = ‘[ DS , ML , Python]’\n",
    "# (iii) var3 = [ ‘DS’ , ’ML’ , ‘Python’ ]\n",
    "# (iv) var4 = 1.\n",
    "# What will be the data type of the above given variable."
   ]
  },
  {
   "cell_type": "code",
   "execution_count": 10,
   "id": "d52f609e-bad6-478b-9d5d-ed9b20b8e437",
   "metadata": {},
   "outputs": [],
   "source": [
    "var1 = ''"
   ]
  },
  {
   "cell_type": "code",
   "execution_count": 12,
   "id": "07df5101-0db6-44e1-a0ed-b095ec43c0a6",
   "metadata": {},
   "outputs": [
    {
     "data": {
      "text/plain": [
       "str"
      ]
     },
     "execution_count": 12,
     "metadata": {},
     "output_type": "execute_result"
    }
   ],
   "source": [
    "type(var1)"
   ]
  },
  {
   "cell_type": "code",
   "execution_count": 13,
   "id": "982e54fc-ca8f-49ae-855d-dc9831d7acba",
   "metadata": {},
   "outputs": [],
   "source": [
    "var2 = '[ DS , ML , Python]'"
   ]
  },
  {
   "cell_type": "code",
   "execution_count": 14,
   "id": "b9a06547-f8b5-4ff8-ab36-78bceca967d3",
   "metadata": {},
   "outputs": [
    {
     "data": {
      "text/plain": [
       "str"
      ]
     },
     "execution_count": 14,
     "metadata": {},
     "output_type": "execute_result"
    }
   ],
   "source": [
    "type(var2)"
   ]
  },
  {
   "cell_type": "code",
   "execution_count": 16,
   "id": "46d7545c-8f71-4dc9-a755-69d91991f664",
   "metadata": {},
   "outputs": [],
   "source": [
    "var3 = ['DS' , 'ML' , 'Python']"
   ]
  },
  {
   "cell_type": "code",
   "execution_count": 17,
   "id": "81978075-080b-4bad-ba69-a822fa252716",
   "metadata": {},
   "outputs": [
    {
     "data": {
      "text/plain": [
       "list"
      ]
     },
     "execution_count": 17,
     "metadata": {},
     "output_type": "execute_result"
    }
   ],
   "source": [
    "type(var3)"
   ]
  },
  {
   "cell_type": "code",
   "execution_count": 18,
   "id": "59d38c5a-d9de-4344-84de-680c7aad8164",
   "metadata": {},
   "outputs": [],
   "source": [
    "var4 = 1."
   ]
  },
  {
   "cell_type": "code",
   "execution_count": 19,
   "id": "6a335ce1-e00e-47b7-9ea5-639ff3797447",
   "metadata": {},
   "outputs": [
    {
     "data": {
      "text/plain": [
       "float"
      ]
     },
     "execution_count": 19,
     "metadata": {},
     "output_type": "execute_result"
    }
   ],
   "source": [
    "type(var4)"
   ]
  },
  {
   "cell_type": "code",
   "execution_count": 20,
   "id": "cce4ada9-f984-4c97-90d1-2b6a587d222a",
   "metadata": {},
   "outputs": [],
   "source": [
    "# Q3. Explain the use of the following operators using an example:\n",
    "# (i) /\n",
    "# (ii) %\n",
    "# (iii) //\n",
    "# (iv) **"
   ]
  },
  {
   "cell_type": "code",
   "execution_count": 25,
   "id": "ceb11cd5-bcb2-4149-8847-17bb436e8aa0",
   "metadata": {},
   "outputs": [
    {
     "data": {
      "text/plain": [
       "5.0"
      ]
     },
     "execution_count": 25,
     "metadata": {},
     "output_type": "execute_result"
    }
   ],
   "source": [
    "# \"/\" operator is used for division, gives float type in output\n",
    "25/5"
   ]
  },
  {
   "cell_type": "code",
   "execution_count": 28,
   "id": "f535cabc-de3f-476e-a18e-681d06661fbc",
   "metadata": {},
   "outputs": [
    {
     "data": {
      "text/plain": [
       "2"
      ]
     },
     "execution_count": 28,
     "metadata": {},
     "output_type": "execute_result"
    }
   ],
   "source": [
    "# \"%\" which is called modulo is used to get remainder after division\n",
    "19%17"
   ]
  },
  {
   "cell_type": "code",
   "execution_count": 29,
   "id": "8ce2e77f-c47a-4739-a50e-c9965e7766f7",
   "metadata": {},
   "outputs": [
    {
     "data": {
      "text/plain": [
       "7"
      ]
     },
     "execution_count": 29,
     "metadata": {},
     "output_type": "execute_result"
    }
   ],
   "source": [
    "# \"//\" it is used for floor division, gets the nearest integer value after division\n",
    "22//3"
   ]
  },
  {
   "cell_type": "code",
   "execution_count": 30,
   "id": "15f06c16-cd8a-4011-94b8-7cc507caa4e9",
   "metadata": {},
   "outputs": [
    {
     "data": {
      "text/plain": [
       "8"
      ]
     },
     "execution_count": 30,
     "metadata": {},
     "output_type": "execute_result"
    }
   ],
   "source": [
    "# \"**\" is used for exponent\n",
    "2**3"
   ]
  },
  {
   "cell_type": "code",
   "execution_count": 31,
   "id": "2c319df0-e7a4-4e03-8c19-09975e484492",
   "metadata": {},
   "outputs": [],
   "source": [
    "# Q4. Create a list of length 10 of your choice containing multiple types of data. Using for loop print the\n",
    "# element and its data type."
   ]
  },
  {
   "cell_type": "code",
   "execution_count": 32,
   "id": "eb627c8c-280b-4e47-ae03-20360207b8fa",
   "metadata": {},
   "outputs": [],
   "source": [
    "my_list = [1,2,3,2.1,\"abc\",(2,6,7),[6,4,8,8]]"
   ]
  },
  {
   "cell_type": "code",
   "execution_count": 34,
   "id": "ab2caf77-0f87-443e-8b20-a1ea6bd7e60b",
   "metadata": {},
   "outputs": [
    {
     "name": "stdout",
     "output_type": "stream",
     "text": [
      "1\n",
      "<class 'int'>\n",
      "2\n",
      "<class 'int'>\n",
      "3\n",
      "<class 'int'>\n",
      "2.1\n",
      "<class 'float'>\n",
      "abc\n",
      "<class 'str'>\n",
      "(2, 6, 7)\n",
      "<class 'tuple'>\n",
      "[6, 4, 8, 8]\n",
      "<class 'list'>\n"
     ]
    }
   ],
   "source": [
    "for item in my_list:\n",
    "    print(item)\n",
    "    print(type(item))"
   ]
  },
  {
   "cell_type": "code",
   "execution_count": 35,
   "id": "59024c2a-0b1a-4456-b296-50e67566d296",
   "metadata": {},
   "outputs": [],
   "source": [
    "# Q5. Using a while loop, verify if the number A is purely divisible by number B and if so then how many\n",
    "# times it can be divisible."
   ]
  },
  {
   "cell_type": "code",
   "execution_count": 18,
   "id": "410a6ff2-0ef4-4444-a4c6-209018c0ea5b",
   "metadata": {},
   "outputs": [
    {
     "name": "stdin",
     "output_type": "stream",
     "text": [
      "Enter first number :  8\n",
      "Enter second number :  2\n"
     ]
    }
   ],
   "source": [
    "A = int(input(\"Enter first number : \"))\n",
    "B = int(input(\"Enter second number : \"))"
   ]
  },
  {
   "cell_type": "code",
   "execution_count": 19,
   "id": "f62a2afa-0a18-4179-9c8a-89a8df5f3168",
   "metadata": {},
   "outputs": [
    {
     "name": "stdout",
     "output_type": "stream",
     "text": [
      "8 is divisible by 2 4.0 times\n"
     ]
    }
   ],
   "source": [
    "while A % B == 0:\n",
    "    print(A, \"is divisible by\", B, A/B,\"times\")\n",
    "    break\n",
    "else:\n",
    "    print(A, \"is not divisible by\", B)\n"
   ]
  },
  {
   "cell_type": "code",
   "execution_count": 45,
   "id": "58a8aba1-3042-411b-8594-2f558ec1c679",
   "metadata": {},
   "outputs": [],
   "source": [
    "# Q6. Create a list containing 25 int type data. Using for loop and if-else condition print if the element is\n",
    "# divisible by 3 or not."
   ]
  },
  {
   "cell_type": "code",
   "execution_count": 46,
   "id": "74caf907-d0ea-460e-9320-428062fc12cf",
   "metadata": {},
   "outputs": [],
   "source": [
    "list1 = [1,2,3,4,5,6,7,8,9,10,11,12,13,14,15,16,17,18,19,20,21,22,23,24,25]"
   ]
  },
  {
   "cell_type": "code",
   "execution_count": 47,
   "id": "d9c68e7c-5be5-402b-84d5-2fa69befde38",
   "metadata": {},
   "outputs": [
    {
     "name": "stdout",
     "output_type": "stream",
     "text": [
      "The element is NOT divisible by 3\n",
      "The element is NOT divisible by 3\n",
      "The element is divisible by 3\n",
      "The element is NOT divisible by 3\n",
      "The element is NOT divisible by 3\n",
      "The element is divisible by 3\n",
      "The element is NOT divisible by 3\n",
      "The element is NOT divisible by 3\n",
      "The element is divisible by 3\n",
      "The element is NOT divisible by 3\n",
      "The element is NOT divisible by 3\n",
      "The element is divisible by 3\n",
      "The element is NOT divisible by 3\n",
      "The element is NOT divisible by 3\n",
      "The element is divisible by 3\n",
      "The element is NOT divisible by 3\n",
      "The element is NOT divisible by 3\n",
      "The element is divisible by 3\n",
      "The element is NOT divisible by 3\n",
      "The element is NOT divisible by 3\n",
      "The element is divisible by 3\n",
      "The element is NOT divisible by 3\n",
      "The element is NOT divisible by 3\n",
      "The element is divisible by 3\n",
      "The element is NOT divisible by 3\n"
     ]
    }
   ],
   "source": [
    "for element in list1:\n",
    "    if element%3 == 0:\n",
    "        print(\"The element is divisible by 3\")\n",
    "    else:\n",
    "        print(\"The element is NOT divisible by 3\")"
   ]
  },
  {
   "cell_type": "code",
   "execution_count": 48,
   "id": "3c350a89-69f6-4e6a-b7a6-1d4206664737",
   "metadata": {},
   "outputs": [],
   "source": [
    "# Q7. What do you understand about mutable and immutable data types? Give examples for both showing\n",
    "# this property."
   ]
  },
  {
   "cell_type": "code",
   "execution_count": 50,
   "id": "2fc8b46b-3a95-4a30-9caa-298d225881d6",
   "metadata": {},
   "outputs": [],
   "source": [
    "# Answer: The mutable data types can be modified  in the same object without actually creating another object, examples: list, set, dict \n",
    "# the immutable data types do not allow modifying the object in its place"
   ]
  },
  {
   "cell_type": "code",
   "execution_count": 2,
   "id": "3b4af26b-bc94-4156-8d77-9471f09dd9ad",
   "metadata": {},
   "outputs": [],
   "source": [
    "# immutable type\n",
    "sample_str = \"Hello I am a string\""
   ]
  },
  {
   "cell_type": "code",
   "execution_count": 8,
   "id": "498bd6d4-c6f0-499f-bbb3-c4975729f5f0",
   "metadata": {},
   "outputs": [
    {
     "ename": "TypeError",
     "evalue": "'str' object does not support item assignment",
     "output_type": "error",
     "traceback": [
      "\u001b[0;31m---------------------------------------------------------------------------\u001b[0m",
      "\u001b[0;31mTypeError\u001b[0m                                 Traceback (most recent call last)",
      "Cell \u001b[0;32mIn[8], line 1\u001b[0m\n\u001b[0;32m----> 1\u001b[0m \u001b[43msample_str\u001b[49m\u001b[43m[\u001b[49m\u001b[38;5;241;43m0\u001b[39;49m\u001b[43m]\u001b[49m\u001b[38;5;241m=\u001b[39m \u001b[38;5;124m\"\u001b[39m\u001b[38;5;124mh\u001b[39m\u001b[38;5;124m\"\u001b[39m\n",
      "\u001b[0;31mTypeError\u001b[0m: 'str' object does not support item assignment"
     ]
    }
   ],
   "source": [
    "# this code will give TypeError: 'str' object does not support item assignment\n",
    "sample_str[0]= \"h\""
   ]
  },
  {
   "cell_type": "code",
   "execution_count": 9,
   "id": "59a7a5fc-11d8-4b4f-80d6-4bb0dd14e3a7",
   "metadata": {},
   "outputs": [],
   "source": [
    "# mutable type\n",
    "sample_list= [1,2,3,4,5]"
   ]
  },
  {
   "cell_type": "code",
   "execution_count": 10,
   "id": "99cde497-02a5-4395-a2f6-b2eea1001e45",
   "metadata": {},
   "outputs": [],
   "source": [
    "sample_list[1]= 8"
   ]
  },
  {
   "cell_type": "code",
   "execution_count": 12,
   "id": "ddc19d31-4209-4489-8840-8ec340b67527",
   "metadata": {},
   "outputs": [
    {
     "data": {
      "text/plain": [
       "[1, 8, 3, 4, 5]"
      ]
     },
     "execution_count": 12,
     "metadata": {},
     "output_type": "execute_result"
    }
   ],
   "source": [
    "# the list has been updated at index 1, hence mutable\n",
    "sample_list"
   ]
  }
 ],
 "metadata": {
  "kernelspec": {
   "display_name": "Python 3 (ipykernel)",
   "language": "python",
   "name": "python3"
  },
  "language_info": {
   "codemirror_mode": {
    "name": "ipython",
    "version": 3
   },
   "file_extension": ".py",
   "mimetype": "text/x-python",
   "name": "python",
   "nbconvert_exporter": "python",
   "pygments_lexer": "ipython3",
   "version": "3.10.8"
  }
 },
 "nbformat": 4,
 "nbformat_minor": 5
}
